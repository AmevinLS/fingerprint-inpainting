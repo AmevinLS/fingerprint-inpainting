{
  "cells": [
    {
      "cell_type": "markdown",
      "metadata": {
        "id": "ba5hsJ_jxGkR"
      },
      "source": [
        "# U-Net notebook"
      ]
    },
    {
      "cell_type": "markdown",
      "metadata": {
        "id": "0tJ2p2PxxFzf"
      },
      "source": [
        "Authors:\n",
        "- Szymon Siemieniuk 151947\n",
        "- Nikita Makarevich 153989\n",
        "\n",
        "The whole notebook was executed using **Google Colab T4 GPU**"
      ]
    },
    {
      "cell_type": "markdown",
      "metadata": {
        "id": "aIqvPEtGeLmy"
      },
      "source": [
        "## Setup of environment"
      ]
    },
    {
      "cell_type": "markdown",
      "metadata": {
        "id": "77fxAsWobUIK"
      },
      "source": [
        "## Define paths"
      ]
    },
    {
      "cell_type": "code",
      "execution_count": null,
      "metadata": {
        "id": "KoMtDKYYwQUk"
      },
      "outputs": [],
      "source": [
        "BASE_FOLDER = '/content/drive/MyDrive/cv_project3/'\n",
        "DATASET_PATH = BASE_FOLDER + 'dataset/small_data.zip'\n",
        "\n",
        "UNET_FOLDER = BASE_FOLDER + 'unet/'\n",
        "\n",
        "UHYPER_FOLDER = UNET_FOLDER + 'hyperparameters/'\n",
        "UHIST_FOLDER = UNET_FOLDER + \"histories/\"\n",
        "UMODELS_FOLDER = UNET_FOLDER + \"models/\""
      ]
    },
    {
      "cell_type": "markdown",
      "metadata": {
        "id": "RW8TIpInxCC6"
      },
      "source": [
        "### Drive mounting"
      ]
    },
    {
      "cell_type": "code",
      "execution_count": null,
      "metadata": {
        "colab": {
          "base_uri": "https://localhost:8080/"
        },
        "id": "TQxNU3vYYOP3",
        "outputId": "1d2f7f08-097d-45b5-8870-7af85517b7b2"
      },
      "outputs": [
        {
          "name": "stdout",
          "output_type": "stream",
          "text": [
            "Drive already mounted at /content/drive; to attempt to forcibly remount, call drive.mount(\"/content/drive\", force_remount=True).\n"
          ]
        }
      ],
      "source": [
        "from google.colab import drive\n",
        "drive.mount('/content/drive')"
      ]
    },
    {
      "cell_type": "markdown",
      "metadata": {
        "id": "E3BP9Kxv0a68"
      },
      "source": [
        "### Cloning dataset"
      ]
    },
    {
      "cell_type": "code",
      "execution_count": null,
      "metadata": {
        "colab": {
          "base_uri": "https://localhost:8080/"
        },
        "id": "-SpMhgsEJCKj",
        "outputId": "77a20251-5a44-417c-a265-b97fc3611d95"
      },
      "outputs": [
        {
          "name": "stdout",
          "output_type": "stream",
          "text": [
            "cp: cannot stat 'DATASET_PATH': No such file or directory\n"
          ]
        }
      ],
      "source": [
        "! cp DATASET_PATH ."
      ]
    },
    {
      "cell_type": "code",
      "execution_count": null,
      "metadata": {
        "colab": {
          "base_uri": "https://localhost:8080/"
        },
        "id": "mlzvuJ0OFwBX",
        "outputId": "ff3f64cd-f2c9-4045-d7e4-98ecaefae6db"
      },
      "outputs": [
        {
          "name": "stdout",
          "output_type": "stream",
          "text": [
            "Archive:  ./small_data.zip\n",
            "replace ./small_data/test_ground-truth/9995.jpg? [y]es, [n]o, [A]ll, [N]one, [r]ename: "
          ]
        }
      ],
      "source": [
        "! unzip ./small_data.zip -d ./small_data"
      ]
    },
    {
      "cell_type": "markdown",
      "metadata": {
        "id": "VLIthnSVehhe"
      },
      "source": [
        "### Cloning source code"
      ]
    },
    {
      "cell_type": "code",
      "execution_count": null,
      "metadata": {
        "colab": {
          "base_uri": "https://localhost:8080/"
        },
        "id": "qoCKW1xtZCfi",
        "outputId": "c24ac594-03c8-4442-94fd-fb79f926fe22"
      },
      "outputs": [
        {
          "name": "stdout",
          "output_type": "stream",
          "text": [
            "Cloning into 'fingerprint-inpainting'...\n",
            "remote: Enumerating objects: 159, done.\u001b[K\n",
            "remote: Counting objects: 100% (159/159), done.\u001b[K\n",
            "remote: Compressing objects: 100% (105/105), done.\u001b[K\n",
            "remote: Total 159 (delta 83), reused 123 (delta 49), pack-reused 0\u001b[K\n",
            "Receiving objects: 100% (159/159), 15.59 MiB | 15.14 MiB/s, done.\n",
            "Resolving deltas: 100% (83/83), done.\n",
            "create_small_dataset_new.py  data_postprocessing.py  metrics.py   sample_data  small_data.zip\n",
            "create_small_dataset.py      data_preprocessing.py   model.png\t  schemas.py   tuners.py\n",
            "data_augmentation.py\t     drive\t\t     models.py\t  server.py\n",
            "data_loading.py\t\t     fingerprint-inpainting  __pycache__  small_data\n"
          ]
        }
      ],
      "source": [
        "! rm ./*.py\n",
        "! rm -r ./fingerprint-inpainting\n",
        "! git clone https://github.com/AmevinLS/fingerprint-inpainting.git\n",
        "! cp ./fingerprint-inpainting/*.py ./\n",
        "! ls"
      ]
    },
    {
      "cell_type": "markdown",
      "metadata": {
        "id": "xsUAKl4xyHMp"
      },
      "source": [
        "### Import libraries"
      ]
    },
    {
      "cell_type": "code",
      "execution_count": 50,
      "metadata": {
        "id": "ZBB-JYKZVLyz"
      },
      "outputs": [],
      "source": [
        "import glob\n",
        "import os\n",
        "\n",
        "import cv2\n",
        "import matplotlib.pyplot as plt\n",
        "import numpy as np\n",
        "from PIL import Image\n",
        "import seaborn as sns\n",
        "import tensorflow as tf\n",
        "\n",
        "import src.data_scripts.data_augmentation as aug\n",
        "import src.data_scripts.data_preprocessing as prep\n",
        "import src.data_scripts.data_loading as load\n",
        "\n",
        "from src.ml.models import get_unet, get_custom_conv_and_dense, get_custom_autoencoder, UnetGAN\n",
        "from src.ml.metrics import MSSSIM_L1_Loss, MSSSIM_Loss, PSNRMetric, SSIMMetric\n",
        "\n",
        "PATH_TO_INPUT_TRAIN = \"./small_data/training_input\"\n",
        "PATH_TO_TRUTH_TRAIN = \"./small_data/training_ground-truth\"\n",
        "\n",
        "PATH_TO_INPUT_VALID = \"./small_data/validation_input\"\n",
        "PATH_TO_TRUTH_VALID = \"./small_data/validation_ground-truth\"\n",
        "\n",
        "PATH_TO_INPUT_TEST = \"./small_data/test_input\"\n",
        "PATH_TO_TRUTH_TEST = \"./small_data/test_ground-truth\""
      ]
    },
    {
      "cell_type": "markdown",
      "metadata": {
        "id": "ENFKrNQlX8if"
      },
      "source": [
        "### Loading dataset"
      ]
    },
    {
      "cell_type": "code",
      "execution_count": null,
      "metadata": {
        "colab": {
          "base_uri": "https://localhost:8080/"
        },
        "id": "5LnQEVl0X-U6",
        "outputId": "155f97ca-c1b2-40d8-cdf5-d4aa159f1416"
      },
      "outputs": [
        {
          "name": "stdout",
          "output_type": "stream",
          "text": [
            "Found 4000 files belonging to 1 classes.\n",
            "Found 4000 files belonging to 1 classes.\n",
            "Found 1000 files belonging to 1 classes.\n",
            "Found 1000 files belonging to 1 classes.\n",
            "Found 10000 files belonging to 1 classes.\n",
            "Found 10000 files belonging to 1 classes.\n"
          ]
        }
      ],
      "source": [
        "input_func_list = [prep.resize,\n",
        "                   aug.Augment(aug.random_brightness, prob=0.3),\n",
        "                   aug.Augment(aug.random_saturation, prob=0.3),\n",
        "                   prep.normalize_pixels,]\n",
        "\n",
        "truth_func_list = [prep.resize,\n",
        "                   prep.invert,\n",
        "                   prep.to_grayscale,\n",
        "                   prep.normalize_pixels]\n",
        "\n",
        "ds_factory = load.FingerprintDatasetFactory(input_func_list,\n",
        "                                            truth_func_list,\n",
        "                                            batch_size=16,\n",
        "                                            seed=42)\n",
        "\n",
        "train_ds = ds_factory.create_dataset(PATH_TO_INPUT_TRAIN, PATH_TO_TRUTH_TRAIN)\n",
        "valid_ds = ds_factory.create_dataset(PATH_TO_INPUT_VALID, PATH_TO_TRUTH_VALID)\n",
        "test_ds = ds_factory.create_dataset(PATH_TO_INPUT_TEST, PATH_TO_TRUTH_TEST)"
      ]
    },
    {
      "cell_type": "markdown",
      "metadata": {
        "id": "AlvtygWYdwXa"
      },
      "source": [
        "## UNet"
      ]
    },
    {
      "cell_type": "markdown",
      "metadata": {
        "id": "IOgoPReGYCYa"
      },
      "source": []
    },
    {
      "cell_type": "markdown",
      "metadata": {
        "id": "0U5LFjXtzEAl"
      },
      "source": [
        "### Example usage"
      ]
    },
    {
      "cell_type": "code",
      "execution_count": null,
      "metadata": {
        "colab": {
          "base_uri": "https://localhost:8080/"
        },
        "id": "7Uox48XiXomM",
        "outputId": "e31ac508-d855-452c-bca2-a4cadecfa15f"
      },
      "outputs": [
        {
          "name": "stdout",
          "output_type": "stream",
          "text": [
            "Model: \"unet\"\n",
            "__________________________________________________________________________________________________\n",
            " Layer (type)                Output Shape                 Param #   Connected to                  \n",
            "==================================================================================================\n",
            " input_1 (InputLayer)        [(None, 512, 384, 3)]        0         []                            \n",
            "                                                                                                  \n",
            " conv2d (Conv2D)             (None, 512, 384, 16)         448       ['input_1[0][0]']             \n",
            "                                                                                                  \n",
            " dropout (Dropout)           (None, 512, 384, 16)         0         ['conv2d[0][0]']              \n",
            "                                                                                                  \n",
            " conv2d_1 (Conv2D)           (None, 512, 384, 16)         2320      ['dropout[0][0]']             \n",
            "                                                                                                  \n",
            " max_pooling2d (MaxPooling2  (None, 256, 192, 16)         0         ['conv2d_1[0][0]']            \n",
            " D)                                                                                               \n",
            "                                                                                                  \n",
            " conv2d_2 (Conv2D)           (None, 256, 192, 32)         4640      ['max_pooling2d[0][0]']       \n",
            "                                                                                                  \n",
            " dropout_1 (Dropout)         (None, 256, 192, 32)         0         ['conv2d_2[0][0]']            \n",
            "                                                                                                  \n",
            " conv2d_3 (Conv2D)           (None, 256, 192, 32)         9248      ['dropout_1[0][0]']           \n",
            "                                                                                                  \n",
            " max_pooling2d_1 (MaxPoolin  (None, 128, 96, 32)          0         ['conv2d_3[0][0]']            \n",
            " g2D)                                                                                             \n",
            "                                                                                                  \n",
            " conv2d_4 (Conv2D)           (None, 128, 96, 64)          18496     ['max_pooling2d_1[0][0]']     \n",
            "                                                                                                  \n",
            " dropout_2 (Dropout)         (None, 128, 96, 64)          0         ['conv2d_4[0][0]']            \n",
            "                                                                                                  \n",
            " conv2d_5 (Conv2D)           (None, 128, 96, 64)          36928     ['dropout_2[0][0]']           \n",
            "                                                                                                  \n",
            " max_pooling2d_2 (MaxPoolin  (None, 64, 48, 64)           0         ['conv2d_5[0][0]']            \n",
            " g2D)                                                                                             \n",
            "                                                                                                  \n",
            " conv2d_6 (Conv2D)           (None, 64, 48, 128)          73856     ['max_pooling2d_2[0][0]']     \n",
            "                                                                                                  \n",
            " dropout_3 (Dropout)         (None, 64, 48, 128)          0         ['conv2d_6[0][0]']            \n",
            "                                                                                                  \n",
            " conv2d_7 (Conv2D)           (None, 64, 48, 128)          147584    ['dropout_3[0][0]']           \n",
            "                                                                                                  \n",
            " conv2d_transpose (Conv2DTr  (None, 128, 96, 128)         147584    ['conv2d_7[0][0]']            \n",
            " anspose)                                                                                         \n",
            "                                                                                                  \n",
            " zero_padding2d (ZeroPaddin  (None, 128, 96, 128)         0         ['conv2d_transpose[0][0]']    \n",
            " g2D)                                                                                             \n",
            "                                                                                                  \n",
            " concatenate (Concatenate)   (None, 128, 96, 192)         0         ['zero_padding2d[0][0]',      \n",
            "                                                                     'conv2d_5[0][0]']            \n",
            "                                                                                                  \n",
            " conv2d_8 (Conv2D)           (None, 128, 96, 128)         221312    ['concatenate[0][0]']         \n",
            "                                                                                                  \n",
            " dropout_4 (Dropout)         (None, 128, 96, 128)         0         ['conv2d_8[0][0]']            \n",
            "                                                                                                  \n",
            " conv2d_9 (Conv2D)           (None, 128, 96, 128)         147584    ['dropout_4[0][0]']           \n",
            "                                                                                                  \n",
            " conv2d_transpose_1 (Conv2D  (None, 256, 192, 64)         73792     ['conv2d_9[0][0]']            \n",
            " Transpose)                                                                                       \n",
            "                                                                                                  \n",
            " zero_padding2d_1 (ZeroPadd  (None, 256, 192, 64)         0         ['conv2d_transpose_1[0][0]']  \n",
            " ing2D)                                                                                           \n",
            "                                                                                                  \n",
            " concatenate_1 (Concatenate  (None, 256, 192, 96)         0         ['zero_padding2d_1[0][0]',    \n",
            " )                                                                   'conv2d_3[0][0]']            \n",
            "                                                                                                  \n",
            " conv2d_10 (Conv2D)          (None, 256, 192, 64)         55360     ['concatenate_1[0][0]']       \n",
            "                                                                                                  \n",
            " dropout_5 (Dropout)         (None, 256, 192, 64)         0         ['conv2d_10[0][0]']           \n",
            "                                                                                                  \n",
            " conv2d_11 (Conv2D)          (None, 256, 192, 64)         36928     ['dropout_5[0][0]']           \n",
            "                                                                                                  \n",
            " conv2d_transpose_2 (Conv2D  (None, 512, 384, 32)         18464     ['conv2d_11[0][0]']           \n",
            " Transpose)                                                                                       \n",
            "                                                                                                  \n",
            " zero_padding2d_2 (ZeroPadd  (None, 512, 384, 32)         0         ['conv2d_transpose_2[0][0]']  \n",
            " ing2D)                                                                                           \n",
            "                                                                                                  \n",
            " concatenate_2 (Concatenate  (None, 512, 384, 48)         0         ['zero_padding2d_2[0][0]',    \n",
            " )                                                                   'conv2d_1[0][0]']            \n",
            "                                                                                                  \n",
            " conv2d_12 (Conv2D)          (None, 512, 384, 32)         13856     ['concatenate_2[0][0]']       \n",
            "                                                                                                  \n",
            " dropout_6 (Dropout)         (None, 512, 384, 32)         0         ['conv2d_12[0][0]']           \n",
            "                                                                                                  \n",
            " conv2d_13 (Conv2D)          (None, 512, 384, 32)         9248      ['dropout_6[0][0]']           \n",
            "                                                                                                  \n",
            " conv2d_14 (Conv2D)          (None, 512, 384, 1)          33        ['conv2d_13[0][0]']           \n",
            "                                                                                                  \n",
            "==================================================================================================\n",
            "Total params: 1017681 (3.88 MB)\n",
            "Trainable params: 1017681 (3.88 MB)\n",
            "Non-trainable params: 0 (0.00 Byte)\n",
            "__________________________________________________________________________________________________\n"
          ]
        }
      ],
      "source": [
        "unet_model = get_unet(depth=3)\n",
        "unet_model.compile(optimizer='adam', loss=['mse'])\n",
        "unet_model.summary()"
      ]
    },
    {
      "cell_type": "markdown",
      "metadata": {
        "id": "ps0o24-oP3A5"
      },
      "source": [
        "### Hyperparameters"
      ]
    },
    {
      "cell_type": "code",
      "execution_count": null,
      "metadata": {
        "id": "HKeQb4NqQHnW"
      },
      "outputs": [],
      "source": [
        "! pip install -q -U keras-tuner"
      ]
    },
    {
      "cell_type": "code",
      "execution_count": null,
      "metadata": {
        "id": "3wfWaosSQS3Q"
      },
      "outputs": [],
      "source": [
        "import keras_tuner as kt"
      ]
    },
    {
      "cell_type": "code",
      "execution_count": null,
      "metadata": {
        "id": "yDWMtWcgP6-l"
      },
      "outputs": [],
      "source": [
        "def tune_model_mse(hp):\n",
        "    hp_act = hp.Choice('activation', values=['relu', 'elu', 'tanh'])\n",
        "    hp_depth = hp.Choice('depth', values=[2, 3, 4, 5])\n",
        "    hp_dropout = hp.Float('dropout', min_value=0.05, max_value=0.2)\n",
        "    hp_optimizer = hp.Choice('optimizer', values=['adam', 'SGD', 'rmsprop'])\n",
        "\n",
        "    model = get_unet(depth=hp_depth, activation=hp_act, dropout=hp_dropout)\n",
        "    match hp_optimizer:\n",
        "        case \"adam\":\n",
        "            optimizer = tf.keras.optimizers.Adam(learning_rate=0.001)\n",
        "        case \"SGD\":\n",
        "            optimizer = optimizer=tf.keras.optimizers.SGD(learning_rate=0.001)\n",
        "        case \"rmsprop\":\n",
        "            optimizer = optimizer=tf.keras.optimizers.RMSprop(learning_rate=0.001)\n",
        "\n",
        "    model.compile(optimizer=optimizer, loss='mse')\n",
        "    return model\n",
        "\n",
        "def tune_model_ms_ssim(hp):\n",
        "    hp_act = hp.Choice('activation', values=['relu', 'elu', 'tanh'])\n",
        "    hp_depth = hp.Choice('depth', values=[2, 3, 4, 5])\n",
        "    hp_dropout = hp.Float('dropout', min_value=0.05, max_value=0.2)\n",
        "    hp_optimizer = hp.Choice('optimizer', values=['adam', 'SGD', 'rmsprop'])\n",
        "\n",
        "    model = get_unet(depth=hp_depth, activation=hp_act, dropout=hp_dropout)\n",
        "    match hp_optimizer:\n",
        "        case \"adam\":\n",
        "            optimizer = tf.keras.optimizers.Adam(learning_rate=0.001)\n",
        "        case \"SGD\":\n",
        "            optimizer = optimizer=tf.keras.optimizers.SGD(learning_rate=0.001)\n",
        "        case \"rmsprop\":\n",
        "            optimizer = optimizer=tf.keras.optimizers.RMSprop(learning_rate=0.001)\n",
        "\n",
        "    model.compile(optimizer=optimizer, loss=MSSSIM_Loss())\n",
        "    return model\n",
        "\n",
        "def tune_model_mae(hp):\n",
        "    hp_act = hp.Choice('activation', values=['relu', 'elu', 'tanh'])\n",
        "    # hp_depth = hp.Choice('depth', values=[2, 3, 4, 5])\n",
        "    hp_depth = hp.Choice('depth', values=[3])\n",
        "    hp_dropout = hp.Float('dropout', min_value=0.05, max_value=0.2)\n",
        "    hp_optimizer = hp.Choice('optimizer', values=['adam', 'SGD', 'rmsprop'])\n",
        "\n",
        "    model = get_unet(depth=hp_depth, activation=hp_act, dropout=hp_dropout)\n",
        "    match hp_optimizer:\n",
        "        case \"adam\":\n",
        "            optimizer = tf.keras.optimizers.Adam(learning_rate=0.001)\n",
        "        case \"SGD\":\n",
        "            optimizer = optimizer=tf.keras.optimizers.SGD(learning_rate=0.001)\n",
        "        case \"rmsprop\":\n",
        "            optimizer = optimizer=tf.keras.optimizers.RMSprop(learning_rate=0.001)\n",
        "\n",
        "    model.compile(optimizer=optimizer, loss='mae')\n",
        "    return model"
      ]
    },
    {
      "cell_type": "markdown",
      "metadata": {
        "id": "eDgybCIwYKGb"
      },
      "source": [
        "#### Print best found hyperparameters"
      ]
    },
    {
      "cell_type": "code",
      "execution_count": null,
      "metadata": {
        "colab": {
          "base_uri": "https://localhost:8080/"
        },
        "id": "zhf-CoLKYNNF",
        "outputId": "799032b8-e102-4b08-dd95-e413b644b663"
      },
      "outputs": [
        {
          "name": "stdout",
          "output_type": "stream",
          "text": [
            "Reloading Tuner from /content/drive/MyDrive/cv_project3/unet/hyperparameters/mse/tuner0.json\n",
            "{'activation': 'elu', 'depth': 3, 'dropout': 0.07745662128302169, 'optimizer': 'adam', 'tuner/epochs': 5, 'tuner/initial_epoch': 2, 'tuner/bracket': 1, 'tuner/round': 1, 'tuner/trial_id': '0003'}\n",
            "Reloading Tuner from /content/drive/MyDrive/cv_project3/unet/hyperparameters/ms_ssim/tuner0.json\n",
            "{'activation': 'relu', 'depth': 5, 'dropout': 0.059535321530272856, 'optimizer': 'rmsprop', 'tuner/epochs': 2, 'tuner/initial_epoch': 0, 'tuner/bracket': 1, 'tuner/round': 0}\n"
          ]
        }
      ],
      "source": [
        "losses = [\n",
        "    ('mse', 'mse'),\n",
        "    ('ms_ssim', MSSSIM_Loss()),\n",
        "    # ('mae', 'mae')\n",
        "]\n",
        "\n",
        "for s, loss in losses:\n",
        "    func = None\n",
        "    if s == 'mse':\n",
        "        func = tune_model_mse\n",
        "    elif s == 'ms_ssim':\n",
        "        func = tune_model_ms_ssim\n",
        "    elif s == 'mae':\n",
        "        func = tune_model_mae\n",
        "    else:\n",
        "        raise ValueError(\"Invalid parameter\")\n",
        "\n",
        "    tuner = kt.Hyperband(func,\n",
        "                         objective='val_loss',\n",
        "                         max_epochs=5,\n",
        "                         factor=3,\n",
        "                         directory=UHYPER_FOLDER,\n",
        "                         project_name=s)\n",
        "\n",
        "    params = tuner.get_best_hyperparameters()[0]\n",
        "    print(params.values)"
      ]
    },
    {
      "cell_type": "markdown",
      "metadata": {
        "id": "P1ZLiG4sk0t6"
      },
      "source": [
        "# U-Net Training"
      ]
    },
    {
      "cell_type": "code",
      "execution_count": null,
      "metadata": {
        "colab": {
          "base_uri": "https://localhost:8080/",
          "height": 793
        },
        "id": "q2qE4V5hAI44",
        "outputId": "8a4748d0-051d-4ff6-e45d-b6616f2ab601"
      },
      "outputs": [
        {
          "name": "stdout",
          "output_type": "stream",
          "text": [
            "Trial 1 Complete [00h 08m 40s]\n",
            "val_loss: 0.20386290550231934\n",
            "\n",
            "Best val_loss So Far: 0.20386290550231934\n",
            "Total elapsed time: 00h 08m 40s\n",
            "\n",
            "Search: Running Trial #2\n",
            "\n",
            "Value             |Best Value So Far |Hyperparameter\n",
            "tanh              |tanh              |activation\n",
            "3                 |3                 |depth\n",
            "0.10575           |0.080806          |dropout\n",
            "adam              |SGD               |optimizer\n",
            "2                 |2                 |tuner/epochs\n",
            "0                 |0                 |tuner/initial_epoch\n",
            "1                 |1                 |tuner/bracket\n",
            "0                 |0                 |tuner/round\n",
            "\n",
            "Epoch 1/2\n",
            "  6/250 [..............................] - ETA: 3:40 - loss: 0.2432"
          ]
        },
        {
          "name": "stderr",
          "output_type": "stream",
          "text": [
            "WARNING:tensorflow:Callback method `on_train_batch_end` is slow compared to the batch time (batch time: 0.3199s vs `on_train_batch_end` time: 0.4856s). Check your callbacks.\n"
          ]
        },
        {
          "name": "stdout",
          "output_type": "stream",
          "text": [
            "131/250 [==============>...............] - ETA: 1:47 - loss: 0.1990"
          ]
        },
        {
          "ename": "KeyboardInterrupt",
          "evalue": "",
          "output_type": "error",
          "traceback": [
            "\u001b[0;31m---------------------------------------------------------------------------\u001b[0m",
            "\u001b[0;31mKeyboardInterrupt\u001b[0m                         Traceback (most recent call last)",
            "\u001b[0;32m<ipython-input-23-7723c6a8145f>\u001b[0m in \u001b[0;36m<cell line: 14>\u001b[0;34m()\u001b[0m\n\u001b[1;32m     30\u001b[0m                          project_name='cv_params_'+s)\n\u001b[1;32m     31\u001b[0m \u001b[0;34m\u001b[0m\u001b[0m\n\u001b[0;32m---> 32\u001b[0;31m     \u001b[0mtuner\u001b[0m\u001b[0;34m.\u001b[0m\u001b[0msearch\u001b[0m\u001b[0;34m(\u001b[0m\u001b[0mtrain_ds\u001b[0m\u001b[0;34m,\u001b[0m \u001b[0mvalidation_data\u001b[0m\u001b[0;34m=\u001b[0m\u001b[0mvalid_ds\u001b[0m\u001b[0;34m,\u001b[0m \u001b[0mepochs\u001b[0m\u001b[0;34m=\u001b[0m\u001b[0;36m5\u001b[0m\u001b[0;34m)\u001b[0m\u001b[0;34m\u001b[0m\u001b[0;34m\u001b[0m\u001b[0m\n\u001b[0m\u001b[1;32m     33\u001b[0m \u001b[0;34m\u001b[0m\u001b[0m\n\u001b[1;32m     34\u001b[0m     \u001b[0mparams\u001b[0m \u001b[0;34m=\u001b[0m \u001b[0mtuner\u001b[0m\u001b[0;34m.\u001b[0m\u001b[0mget_best_hyperparameters\u001b[0m\u001b[0;34m(\u001b[0m\u001b[0;34m)\u001b[0m\u001b[0;34m[\u001b[0m\u001b[0;36m0\u001b[0m\u001b[0;34m]\u001b[0m\u001b[0;34m\u001b[0m\u001b[0;34m\u001b[0m\u001b[0m\n",
            "\u001b[0;32m/usr/local/lib/python3.10/dist-packages/keras_tuner/src/engine/base_tuner.py\u001b[0m in \u001b[0;36msearch\u001b[0;34m(self, *fit_args, **fit_kwargs)\u001b[0m\n\u001b[1;32m    231\u001b[0m \u001b[0;34m\u001b[0m\u001b[0m\n\u001b[1;32m    232\u001b[0m             \u001b[0mself\u001b[0m\u001b[0;34m.\u001b[0m\u001b[0mon_trial_begin\u001b[0m\u001b[0;34m(\u001b[0m\u001b[0mtrial\u001b[0m\u001b[0;34m)\u001b[0m\u001b[0;34m\u001b[0m\u001b[0;34m\u001b[0m\u001b[0m\n\u001b[0;32m--> 233\u001b[0;31m             \u001b[0mself\u001b[0m\u001b[0;34m.\u001b[0m\u001b[0m_try_run_and_update_trial\u001b[0m\u001b[0;34m(\u001b[0m\u001b[0mtrial\u001b[0m\u001b[0;34m,\u001b[0m \u001b[0;34m*\u001b[0m\u001b[0mfit_args\u001b[0m\u001b[0;34m,\u001b[0m \u001b[0;34m**\u001b[0m\u001b[0mfit_kwargs\u001b[0m\u001b[0;34m)\u001b[0m\u001b[0;34m\u001b[0m\u001b[0;34m\u001b[0m\u001b[0m\n\u001b[0m\u001b[1;32m    234\u001b[0m             \u001b[0mself\u001b[0m\u001b[0;34m.\u001b[0m\u001b[0mon_trial_end\u001b[0m\u001b[0;34m(\u001b[0m\u001b[0mtrial\u001b[0m\u001b[0;34m)\u001b[0m\u001b[0;34m\u001b[0m\u001b[0;34m\u001b[0m\u001b[0m\n\u001b[1;32m    235\u001b[0m         \u001b[0mself\u001b[0m\u001b[0;34m.\u001b[0m\u001b[0mon_search_end\u001b[0m\u001b[0;34m(\u001b[0m\u001b[0;34m)\u001b[0m\u001b[0;34m\u001b[0m\u001b[0;34m\u001b[0m\u001b[0m\n",
            "\u001b[0;32m/usr/local/lib/python3.10/dist-packages/keras_tuner/src/engine/base_tuner.py\u001b[0m in \u001b[0;36m_try_run_and_update_trial\u001b[0;34m(self, trial, *fit_args, **fit_kwargs)\u001b[0m\n\u001b[1;32m    271\u001b[0m     \u001b[0;32mdef\u001b[0m \u001b[0m_try_run_and_update_trial\u001b[0m\u001b[0;34m(\u001b[0m\u001b[0mself\u001b[0m\u001b[0;34m,\u001b[0m \u001b[0mtrial\u001b[0m\u001b[0;34m,\u001b[0m \u001b[0;34m*\u001b[0m\u001b[0mfit_args\u001b[0m\u001b[0;34m,\u001b[0m \u001b[0;34m**\u001b[0m\u001b[0mfit_kwargs\u001b[0m\u001b[0;34m)\u001b[0m\u001b[0;34m:\u001b[0m\u001b[0;34m\u001b[0m\u001b[0;34m\u001b[0m\u001b[0m\n\u001b[1;32m    272\u001b[0m         \u001b[0;32mtry\u001b[0m\u001b[0;34m:\u001b[0m\u001b[0;34m\u001b[0m\u001b[0;34m\u001b[0m\u001b[0m\n\u001b[0;32m--> 273\u001b[0;31m             \u001b[0mself\u001b[0m\u001b[0;34m.\u001b[0m\u001b[0m_run_and_update_trial\u001b[0m\u001b[0;34m(\u001b[0m\u001b[0mtrial\u001b[0m\u001b[0;34m,\u001b[0m \u001b[0;34m*\u001b[0m\u001b[0mfit_args\u001b[0m\u001b[0;34m,\u001b[0m \u001b[0;34m**\u001b[0m\u001b[0mfit_kwargs\u001b[0m\u001b[0;34m)\u001b[0m\u001b[0;34m\u001b[0m\u001b[0;34m\u001b[0m\u001b[0m\n\u001b[0m\u001b[1;32m    274\u001b[0m             \u001b[0mtrial\u001b[0m\u001b[0;34m.\u001b[0m\u001b[0mstatus\u001b[0m \u001b[0;34m=\u001b[0m \u001b[0mtrial_module\u001b[0m\u001b[0;34m.\u001b[0m\u001b[0mTrialStatus\u001b[0m\u001b[0;34m.\u001b[0m\u001b[0mCOMPLETED\u001b[0m\u001b[0;34m\u001b[0m\u001b[0;34m\u001b[0m\u001b[0m\n\u001b[1;32m    275\u001b[0m             \u001b[0;32mreturn\u001b[0m\u001b[0;34m\u001b[0m\u001b[0;34m\u001b[0m\u001b[0m\n",
            "\u001b[0;32m/usr/local/lib/python3.10/dist-packages/keras_tuner/src/engine/base_tuner.py\u001b[0m in \u001b[0;36m_run_and_update_trial\u001b[0;34m(self, trial, *fit_args, **fit_kwargs)\u001b[0m\n\u001b[1;32m    236\u001b[0m \u001b[0;34m\u001b[0m\u001b[0m\n\u001b[1;32m    237\u001b[0m     \u001b[0;32mdef\u001b[0m \u001b[0m_run_and_update_trial\u001b[0m\u001b[0;34m(\u001b[0m\u001b[0mself\u001b[0m\u001b[0;34m,\u001b[0m \u001b[0mtrial\u001b[0m\u001b[0;34m,\u001b[0m \u001b[0;34m*\u001b[0m\u001b[0mfit_args\u001b[0m\u001b[0;34m,\u001b[0m \u001b[0;34m**\u001b[0m\u001b[0mfit_kwargs\u001b[0m\u001b[0;34m)\u001b[0m\u001b[0;34m:\u001b[0m\u001b[0;34m\u001b[0m\u001b[0;34m\u001b[0m\u001b[0m\n\u001b[0;32m--> 238\u001b[0;31m         \u001b[0mresults\u001b[0m \u001b[0;34m=\u001b[0m \u001b[0mself\u001b[0m\u001b[0;34m.\u001b[0m\u001b[0mrun_trial\u001b[0m\u001b[0;34m(\u001b[0m\u001b[0mtrial\u001b[0m\u001b[0;34m,\u001b[0m \u001b[0;34m*\u001b[0m\u001b[0mfit_args\u001b[0m\u001b[0;34m,\u001b[0m \u001b[0;34m**\u001b[0m\u001b[0mfit_kwargs\u001b[0m\u001b[0;34m)\u001b[0m\u001b[0;34m\u001b[0m\u001b[0;34m\u001b[0m\u001b[0m\n\u001b[0m\u001b[1;32m    239\u001b[0m         if self.oracle.get_trial(trial.trial_id).metrics.exists(\n\u001b[1;32m    240\u001b[0m             \u001b[0mself\u001b[0m\u001b[0;34m.\u001b[0m\u001b[0moracle\u001b[0m\u001b[0;34m.\u001b[0m\u001b[0mobjective\u001b[0m\u001b[0;34m.\u001b[0m\u001b[0mname\u001b[0m\u001b[0;34m\u001b[0m\u001b[0;34m\u001b[0m\u001b[0m\n",
            "\u001b[0;32m/usr/local/lib/python3.10/dist-packages/keras_tuner/src/tuners/hyperband.py\u001b[0m in \u001b[0;36mrun_trial\u001b[0;34m(self, trial, *fit_args, **fit_kwargs)\u001b[0m\n\u001b[1;32m    425\u001b[0m             \u001b[0mfit_kwargs\u001b[0m\u001b[0;34m[\u001b[0m\u001b[0;34m\"epochs\"\u001b[0m\u001b[0;34m]\u001b[0m \u001b[0;34m=\u001b[0m \u001b[0mhp\u001b[0m\u001b[0;34m.\u001b[0m\u001b[0mvalues\u001b[0m\u001b[0;34m[\u001b[0m\u001b[0;34m\"tuner/epochs\"\u001b[0m\u001b[0;34m]\u001b[0m\u001b[0;34m\u001b[0m\u001b[0;34m\u001b[0m\u001b[0m\n\u001b[1;32m    426\u001b[0m             \u001b[0mfit_kwargs\u001b[0m\u001b[0;34m[\u001b[0m\u001b[0;34m\"initial_epoch\"\u001b[0m\u001b[0;34m]\u001b[0m \u001b[0;34m=\u001b[0m \u001b[0mhp\u001b[0m\u001b[0;34m.\u001b[0m\u001b[0mvalues\u001b[0m\u001b[0;34m[\u001b[0m\u001b[0;34m\"tuner/initial_epoch\"\u001b[0m\u001b[0;34m]\u001b[0m\u001b[0;34m\u001b[0m\u001b[0;34m\u001b[0m\u001b[0m\n\u001b[0;32m--> 427\u001b[0;31m         \u001b[0;32mreturn\u001b[0m \u001b[0msuper\u001b[0m\u001b[0;34m(\u001b[0m\u001b[0;34m)\u001b[0m\u001b[0;34m.\u001b[0m\u001b[0mrun_trial\u001b[0m\u001b[0;34m(\u001b[0m\u001b[0mtrial\u001b[0m\u001b[0;34m,\u001b[0m \u001b[0;34m*\u001b[0m\u001b[0mfit_args\u001b[0m\u001b[0;34m,\u001b[0m \u001b[0;34m**\u001b[0m\u001b[0mfit_kwargs\u001b[0m\u001b[0;34m)\u001b[0m\u001b[0;34m\u001b[0m\u001b[0;34m\u001b[0m\u001b[0m\n\u001b[0m\u001b[1;32m    428\u001b[0m \u001b[0;34m\u001b[0m\u001b[0m\n\u001b[1;32m    429\u001b[0m     \u001b[0;32mdef\u001b[0m \u001b[0m_build_hypermodel\u001b[0m\u001b[0;34m(\u001b[0m\u001b[0mself\u001b[0m\u001b[0;34m,\u001b[0m \u001b[0mhp\u001b[0m\u001b[0;34m)\u001b[0m\u001b[0;34m:\u001b[0m\u001b[0;34m\u001b[0m\u001b[0;34m\u001b[0m\u001b[0m\n",
            "\u001b[0;32m/usr/local/lib/python3.10/dist-packages/keras_tuner/src/engine/tuner.py\u001b[0m in \u001b[0;36mrun_trial\u001b[0;34m(self, trial, *args, **kwargs)\u001b[0m\n\u001b[1;32m    312\u001b[0m             \u001b[0mcallbacks\u001b[0m\u001b[0;34m.\u001b[0m\u001b[0mappend\u001b[0m\u001b[0;34m(\u001b[0m\u001b[0mmodel_checkpoint\u001b[0m\u001b[0;34m)\u001b[0m\u001b[0;34m\u001b[0m\u001b[0;34m\u001b[0m\u001b[0m\n\u001b[1;32m    313\u001b[0m             \u001b[0mcopied_kwargs\u001b[0m\u001b[0;34m[\u001b[0m\u001b[0;34m\"callbacks\"\u001b[0m\u001b[0;34m]\u001b[0m \u001b[0;34m=\u001b[0m \u001b[0mcallbacks\u001b[0m\u001b[0;34m\u001b[0m\u001b[0;34m\u001b[0m\u001b[0m\n\u001b[0;32m--> 314\u001b[0;31m             \u001b[0mobj_value\u001b[0m \u001b[0;34m=\u001b[0m \u001b[0mself\u001b[0m\u001b[0;34m.\u001b[0m\u001b[0m_build_and_fit_model\u001b[0m\u001b[0;34m(\u001b[0m\u001b[0mtrial\u001b[0m\u001b[0;34m,\u001b[0m \u001b[0;34m*\u001b[0m\u001b[0margs\u001b[0m\u001b[0;34m,\u001b[0m \u001b[0;34m**\u001b[0m\u001b[0mcopied_kwargs\u001b[0m\u001b[0;34m)\u001b[0m\u001b[0;34m\u001b[0m\u001b[0;34m\u001b[0m\u001b[0m\n\u001b[0m\u001b[1;32m    315\u001b[0m \u001b[0;34m\u001b[0m\u001b[0m\n\u001b[1;32m    316\u001b[0m             \u001b[0mhistories\u001b[0m\u001b[0;34m.\u001b[0m\u001b[0mappend\u001b[0m\u001b[0;34m(\u001b[0m\u001b[0mobj_value\u001b[0m\u001b[0;34m)\u001b[0m\u001b[0;34m\u001b[0m\u001b[0;34m\u001b[0m\u001b[0m\n",
            "\u001b[0;32m/usr/local/lib/python3.10/dist-packages/keras_tuner/src/engine/tuner.py\u001b[0m in \u001b[0;36m_build_and_fit_model\u001b[0;34m(self, trial, *args, **kwargs)\u001b[0m\n\u001b[1;32m    231\u001b[0m         \u001b[0mhp\u001b[0m \u001b[0;34m=\u001b[0m \u001b[0mtrial\u001b[0m\u001b[0;34m.\u001b[0m\u001b[0mhyperparameters\u001b[0m\u001b[0;34m\u001b[0m\u001b[0;34m\u001b[0m\u001b[0m\n\u001b[1;32m    232\u001b[0m         \u001b[0mmodel\u001b[0m \u001b[0;34m=\u001b[0m \u001b[0mself\u001b[0m\u001b[0;34m.\u001b[0m\u001b[0m_try_build\u001b[0m\u001b[0;34m(\u001b[0m\u001b[0mhp\u001b[0m\u001b[0;34m)\u001b[0m\u001b[0;34m\u001b[0m\u001b[0;34m\u001b[0m\u001b[0m\n\u001b[0;32m--> 233\u001b[0;31m         \u001b[0mresults\u001b[0m \u001b[0;34m=\u001b[0m \u001b[0mself\u001b[0m\u001b[0;34m.\u001b[0m\u001b[0mhypermodel\u001b[0m\u001b[0;34m.\u001b[0m\u001b[0mfit\u001b[0m\u001b[0;34m(\u001b[0m\u001b[0mhp\u001b[0m\u001b[0;34m,\u001b[0m \u001b[0mmodel\u001b[0m\u001b[0;34m,\u001b[0m \u001b[0;34m*\u001b[0m\u001b[0margs\u001b[0m\u001b[0;34m,\u001b[0m \u001b[0;34m**\u001b[0m\u001b[0mkwargs\u001b[0m\u001b[0;34m)\u001b[0m\u001b[0;34m\u001b[0m\u001b[0;34m\u001b[0m\u001b[0m\n\u001b[0m\u001b[1;32m    234\u001b[0m \u001b[0;34m\u001b[0m\u001b[0m\n\u001b[1;32m    235\u001b[0m         \u001b[0;31m# Save the build config for model loading later.\u001b[0m\u001b[0;34m\u001b[0m\u001b[0;34m\u001b[0m\u001b[0m\n",
            "\u001b[0;32m/usr/local/lib/python3.10/dist-packages/keras_tuner/src/engine/hypermodel.py\u001b[0m in \u001b[0;36mfit\u001b[0;34m(self, hp, model, *args, **kwargs)\u001b[0m\n\u001b[1;32m    147\u001b[0m             \u001b[0mIf\u001b[0m \u001b[0;32mreturn\u001b[0m \u001b[0ma\u001b[0m \u001b[0mfloat\u001b[0m\u001b[0;34m,\u001b[0m \u001b[0mit\u001b[0m \u001b[0mshould\u001b[0m \u001b[0mbe\u001b[0m \u001b[0mthe\u001b[0m\u001b[0;31m \u001b[0m\u001b[0;31m`\u001b[0m\u001b[0mobjective\u001b[0m\u001b[0;31m`\u001b[0m \u001b[0mvalue\u001b[0m\u001b[0;34m.\u001b[0m\u001b[0;34m\u001b[0m\u001b[0;34m\u001b[0m\u001b[0m\n\u001b[1;32m    148\u001b[0m         \"\"\"\n\u001b[0;32m--> 149\u001b[0;31m         \u001b[0;32mreturn\u001b[0m \u001b[0mmodel\u001b[0m\u001b[0;34m.\u001b[0m\u001b[0mfit\u001b[0m\u001b[0;34m(\u001b[0m\u001b[0;34m*\u001b[0m\u001b[0margs\u001b[0m\u001b[0;34m,\u001b[0m \u001b[0;34m**\u001b[0m\u001b[0mkwargs\u001b[0m\u001b[0;34m)\u001b[0m\u001b[0;34m\u001b[0m\u001b[0;34m\u001b[0m\u001b[0m\n\u001b[0m\u001b[1;32m    150\u001b[0m \u001b[0;34m\u001b[0m\u001b[0m\n\u001b[1;32m    151\u001b[0m \u001b[0;34m\u001b[0m\u001b[0m\n",
            "\u001b[0;32m/usr/local/lib/python3.10/dist-packages/keras/src/utils/traceback_utils.py\u001b[0m in \u001b[0;36merror_handler\u001b[0;34m(*args, **kwargs)\u001b[0m\n\u001b[1;32m     63\u001b[0m         \u001b[0mfiltered_tb\u001b[0m \u001b[0;34m=\u001b[0m \u001b[0;32mNone\u001b[0m\u001b[0;34m\u001b[0m\u001b[0;34m\u001b[0m\u001b[0m\n\u001b[1;32m     64\u001b[0m         \u001b[0;32mtry\u001b[0m\u001b[0;34m:\u001b[0m\u001b[0;34m\u001b[0m\u001b[0;34m\u001b[0m\u001b[0m\n\u001b[0;32m---> 65\u001b[0;31m             \u001b[0;32mreturn\u001b[0m \u001b[0mfn\u001b[0m\u001b[0;34m(\u001b[0m\u001b[0;34m*\u001b[0m\u001b[0margs\u001b[0m\u001b[0;34m,\u001b[0m \u001b[0;34m**\u001b[0m\u001b[0mkwargs\u001b[0m\u001b[0;34m)\u001b[0m\u001b[0;34m\u001b[0m\u001b[0;34m\u001b[0m\u001b[0m\n\u001b[0m\u001b[1;32m     66\u001b[0m         \u001b[0;32mexcept\u001b[0m \u001b[0mException\u001b[0m \u001b[0;32mas\u001b[0m \u001b[0me\u001b[0m\u001b[0;34m:\u001b[0m\u001b[0;34m\u001b[0m\u001b[0;34m\u001b[0m\u001b[0m\n\u001b[1;32m     67\u001b[0m             \u001b[0mfiltered_tb\u001b[0m \u001b[0;34m=\u001b[0m \u001b[0m_process_traceback_frames\u001b[0m\u001b[0;34m(\u001b[0m\u001b[0me\u001b[0m\u001b[0;34m.\u001b[0m\u001b[0m__traceback__\u001b[0m\u001b[0;34m)\u001b[0m\u001b[0;34m\u001b[0m\u001b[0;34m\u001b[0m\u001b[0m\n",
            "\u001b[0;32m/usr/local/lib/python3.10/dist-packages/keras/src/engine/training.py\u001b[0m in \u001b[0;36mfit\u001b[0;34m(self, x, y, batch_size, epochs, verbose, callbacks, validation_split, validation_data, shuffle, class_weight, sample_weight, initial_epoch, steps_per_epoch, validation_steps, validation_batch_size, validation_freq, max_queue_size, workers, use_multiprocessing)\u001b[0m\n\u001b[1;32m   1805\u001b[0m                         ):\n\u001b[1;32m   1806\u001b[0m                             \u001b[0mcallbacks\u001b[0m\u001b[0;34m.\u001b[0m\u001b[0mon_train_batch_begin\u001b[0m\u001b[0;34m(\u001b[0m\u001b[0mstep\u001b[0m\u001b[0;34m)\u001b[0m\u001b[0;34m\u001b[0m\u001b[0;34m\u001b[0m\u001b[0m\n\u001b[0;32m-> 1807\u001b[0;31m                             \u001b[0mtmp_logs\u001b[0m \u001b[0;34m=\u001b[0m \u001b[0mself\u001b[0m\u001b[0;34m.\u001b[0m\u001b[0mtrain_function\u001b[0m\u001b[0;34m(\u001b[0m\u001b[0miterator\u001b[0m\u001b[0;34m)\u001b[0m\u001b[0;34m\u001b[0m\u001b[0;34m\u001b[0m\u001b[0m\n\u001b[0m\u001b[1;32m   1808\u001b[0m                             \u001b[0;32mif\u001b[0m \u001b[0mdata_handler\u001b[0m\u001b[0;34m.\u001b[0m\u001b[0mshould_sync\u001b[0m\u001b[0;34m:\u001b[0m\u001b[0;34m\u001b[0m\u001b[0;34m\u001b[0m\u001b[0m\n\u001b[1;32m   1809\u001b[0m                                 \u001b[0mcontext\u001b[0m\u001b[0;34m.\u001b[0m\u001b[0masync_wait\u001b[0m\u001b[0;34m(\u001b[0m\u001b[0;34m)\u001b[0m\u001b[0;34m\u001b[0m\u001b[0;34m\u001b[0m\u001b[0m\n",
            "\u001b[0;32m/usr/local/lib/python3.10/dist-packages/tensorflow/python/util/traceback_utils.py\u001b[0m in \u001b[0;36merror_handler\u001b[0;34m(*args, **kwargs)\u001b[0m\n\u001b[1;32m    148\u001b[0m     \u001b[0mfiltered_tb\u001b[0m \u001b[0;34m=\u001b[0m \u001b[0;32mNone\u001b[0m\u001b[0;34m\u001b[0m\u001b[0;34m\u001b[0m\u001b[0m\n\u001b[1;32m    149\u001b[0m     \u001b[0;32mtry\u001b[0m\u001b[0;34m:\u001b[0m\u001b[0;34m\u001b[0m\u001b[0;34m\u001b[0m\u001b[0m\n\u001b[0;32m--> 150\u001b[0;31m       \u001b[0;32mreturn\u001b[0m \u001b[0mfn\u001b[0m\u001b[0;34m(\u001b[0m\u001b[0;34m*\u001b[0m\u001b[0margs\u001b[0m\u001b[0;34m,\u001b[0m \u001b[0;34m**\u001b[0m\u001b[0mkwargs\u001b[0m\u001b[0;34m)\u001b[0m\u001b[0;34m\u001b[0m\u001b[0;34m\u001b[0m\u001b[0m\n\u001b[0m\u001b[1;32m    151\u001b[0m     \u001b[0;32mexcept\u001b[0m \u001b[0mException\u001b[0m \u001b[0;32mas\u001b[0m \u001b[0me\u001b[0m\u001b[0;34m:\u001b[0m\u001b[0;34m\u001b[0m\u001b[0;34m\u001b[0m\u001b[0m\n\u001b[1;32m    152\u001b[0m       \u001b[0mfiltered_tb\u001b[0m \u001b[0;34m=\u001b[0m \u001b[0m_process_traceback_frames\u001b[0m\u001b[0;34m(\u001b[0m\u001b[0me\u001b[0m\u001b[0;34m.\u001b[0m\u001b[0m__traceback__\u001b[0m\u001b[0;34m)\u001b[0m\u001b[0;34m\u001b[0m\u001b[0;34m\u001b[0m\u001b[0m\n",
            "\u001b[0;32m/usr/local/lib/python3.10/dist-packages/tensorflow/python/eager/polymorphic_function/polymorphic_function.py\u001b[0m in \u001b[0;36m__call__\u001b[0;34m(self, *args, **kwds)\u001b[0m\n\u001b[1;32m    830\u001b[0m \u001b[0;34m\u001b[0m\u001b[0m\n\u001b[1;32m    831\u001b[0m       \u001b[0;32mwith\u001b[0m \u001b[0mOptionalXlaContext\u001b[0m\u001b[0;34m(\u001b[0m\u001b[0mself\u001b[0m\u001b[0;34m.\u001b[0m\u001b[0m_jit_compile\u001b[0m\u001b[0;34m)\u001b[0m\u001b[0;34m:\u001b[0m\u001b[0;34m\u001b[0m\u001b[0;34m\u001b[0m\u001b[0m\n\u001b[0;32m--> 832\u001b[0;31m         \u001b[0mresult\u001b[0m \u001b[0;34m=\u001b[0m \u001b[0mself\u001b[0m\u001b[0;34m.\u001b[0m\u001b[0m_call\u001b[0m\u001b[0;34m(\u001b[0m\u001b[0;34m*\u001b[0m\u001b[0margs\u001b[0m\u001b[0;34m,\u001b[0m \u001b[0;34m**\u001b[0m\u001b[0mkwds\u001b[0m\u001b[0;34m)\u001b[0m\u001b[0;34m\u001b[0m\u001b[0;34m\u001b[0m\u001b[0m\n\u001b[0m\u001b[1;32m    833\u001b[0m \u001b[0;34m\u001b[0m\u001b[0m\n\u001b[1;32m    834\u001b[0m       \u001b[0mnew_tracing_count\u001b[0m \u001b[0;34m=\u001b[0m \u001b[0mself\u001b[0m\u001b[0;34m.\u001b[0m\u001b[0mexperimental_get_tracing_count\u001b[0m\u001b[0;34m(\u001b[0m\u001b[0;34m)\u001b[0m\u001b[0;34m\u001b[0m\u001b[0;34m\u001b[0m\u001b[0m\n",
            "\u001b[0;32m/usr/local/lib/python3.10/dist-packages/tensorflow/python/eager/polymorphic_function/polymorphic_function.py\u001b[0m in \u001b[0;36m_call\u001b[0;34m(self, *args, **kwds)\u001b[0m\n\u001b[1;32m    866\u001b[0m       \u001b[0;31m# In this case we have created variables on the first call, so we run the\u001b[0m\u001b[0;34m\u001b[0m\u001b[0;34m\u001b[0m\u001b[0m\n\u001b[1;32m    867\u001b[0m       \u001b[0;31m# defunned version which is guaranteed to never create variables.\u001b[0m\u001b[0;34m\u001b[0m\u001b[0;34m\u001b[0m\u001b[0m\n\u001b[0;32m--> 868\u001b[0;31m       return tracing_compilation.call_function(\n\u001b[0m\u001b[1;32m    869\u001b[0m           \u001b[0margs\u001b[0m\u001b[0;34m,\u001b[0m \u001b[0mkwds\u001b[0m\u001b[0;34m,\u001b[0m \u001b[0mself\u001b[0m\u001b[0;34m.\u001b[0m\u001b[0m_no_variable_creation_config\u001b[0m\u001b[0;34m\u001b[0m\u001b[0;34m\u001b[0m\u001b[0m\n\u001b[1;32m    870\u001b[0m       )\n",
            "\u001b[0;32m/usr/local/lib/python3.10/dist-packages/tensorflow/python/eager/polymorphic_function/tracing_compilation.py\u001b[0m in \u001b[0;36mcall_function\u001b[0;34m(args, kwargs, tracing_options)\u001b[0m\n\u001b[1;32m    137\u001b[0m   \u001b[0mbound_args\u001b[0m \u001b[0;34m=\u001b[0m \u001b[0mfunction\u001b[0m\u001b[0;34m.\u001b[0m\u001b[0mfunction_type\u001b[0m\u001b[0;34m.\u001b[0m\u001b[0mbind\u001b[0m\u001b[0;34m(\u001b[0m\u001b[0;34m*\u001b[0m\u001b[0margs\u001b[0m\u001b[0;34m,\u001b[0m \u001b[0;34m**\u001b[0m\u001b[0mkwargs\u001b[0m\u001b[0;34m)\u001b[0m\u001b[0;34m\u001b[0m\u001b[0;34m\u001b[0m\u001b[0m\n\u001b[1;32m    138\u001b[0m   \u001b[0mflat_inputs\u001b[0m \u001b[0;34m=\u001b[0m \u001b[0mfunction\u001b[0m\u001b[0;34m.\u001b[0m\u001b[0mfunction_type\u001b[0m\u001b[0;34m.\u001b[0m\u001b[0munpack_inputs\u001b[0m\u001b[0;34m(\u001b[0m\u001b[0mbound_args\u001b[0m\u001b[0;34m)\u001b[0m\u001b[0;34m\u001b[0m\u001b[0;34m\u001b[0m\u001b[0m\n\u001b[0;32m--> 139\u001b[0;31m   return function._call_flat(  # pylint: disable=protected-access\n\u001b[0m\u001b[1;32m    140\u001b[0m       \u001b[0mflat_inputs\u001b[0m\u001b[0;34m,\u001b[0m \u001b[0mcaptured_inputs\u001b[0m\u001b[0;34m=\u001b[0m\u001b[0mfunction\u001b[0m\u001b[0;34m.\u001b[0m\u001b[0mcaptured_inputs\u001b[0m\u001b[0;34m\u001b[0m\u001b[0;34m\u001b[0m\u001b[0m\n\u001b[1;32m    141\u001b[0m   )\n",
            "\u001b[0;32m/usr/local/lib/python3.10/dist-packages/tensorflow/python/eager/polymorphic_function/concrete_function.py\u001b[0m in \u001b[0;36m_call_flat\u001b[0;34m(self, tensor_inputs, captured_inputs)\u001b[0m\n\u001b[1;32m   1321\u001b[0m         and executing_eagerly):\n\u001b[1;32m   1322\u001b[0m       \u001b[0;31m# No tape is watching; skip to running the function.\u001b[0m\u001b[0;34m\u001b[0m\u001b[0;34m\u001b[0m\u001b[0m\n\u001b[0;32m-> 1323\u001b[0;31m       \u001b[0;32mreturn\u001b[0m \u001b[0mself\u001b[0m\u001b[0;34m.\u001b[0m\u001b[0m_inference_function\u001b[0m\u001b[0;34m.\u001b[0m\u001b[0mcall_preflattened\u001b[0m\u001b[0;34m(\u001b[0m\u001b[0margs\u001b[0m\u001b[0;34m)\u001b[0m\u001b[0;34m\u001b[0m\u001b[0;34m\u001b[0m\u001b[0m\n\u001b[0m\u001b[1;32m   1324\u001b[0m     forward_backward = self._select_forward_and_backward_functions(\n\u001b[1;32m   1325\u001b[0m         \u001b[0margs\u001b[0m\u001b[0;34m,\u001b[0m\u001b[0;34m\u001b[0m\u001b[0;34m\u001b[0m\u001b[0m\n",
            "\u001b[0;32m/usr/local/lib/python3.10/dist-packages/tensorflow/python/eager/polymorphic_function/atomic_function.py\u001b[0m in \u001b[0;36mcall_preflattened\u001b[0;34m(self, args)\u001b[0m\n\u001b[1;32m    214\u001b[0m   \u001b[0;32mdef\u001b[0m \u001b[0mcall_preflattened\u001b[0m\u001b[0;34m(\u001b[0m\u001b[0mself\u001b[0m\u001b[0;34m,\u001b[0m \u001b[0margs\u001b[0m\u001b[0;34m:\u001b[0m \u001b[0mSequence\u001b[0m\u001b[0;34m[\u001b[0m\u001b[0mcore\u001b[0m\u001b[0;34m.\u001b[0m\u001b[0mTensor\u001b[0m\u001b[0;34m]\u001b[0m\u001b[0;34m)\u001b[0m \u001b[0;34m->\u001b[0m \u001b[0mAny\u001b[0m\u001b[0;34m:\u001b[0m\u001b[0;34m\u001b[0m\u001b[0;34m\u001b[0m\u001b[0m\n\u001b[1;32m    215\u001b[0m     \u001b[0;34m\"\"\"Calls with flattened tensor inputs and returns the structured output.\"\"\"\u001b[0m\u001b[0;34m\u001b[0m\u001b[0;34m\u001b[0m\u001b[0m\n\u001b[0;32m--> 216\u001b[0;31m     \u001b[0mflat_outputs\u001b[0m \u001b[0;34m=\u001b[0m \u001b[0mself\u001b[0m\u001b[0;34m.\u001b[0m\u001b[0mcall_flat\u001b[0m\u001b[0;34m(\u001b[0m\u001b[0;34m*\u001b[0m\u001b[0margs\u001b[0m\u001b[0;34m)\u001b[0m\u001b[0;34m\u001b[0m\u001b[0;34m\u001b[0m\u001b[0m\n\u001b[0m\u001b[1;32m    217\u001b[0m     \u001b[0;32mreturn\u001b[0m \u001b[0mself\u001b[0m\u001b[0;34m.\u001b[0m\u001b[0mfunction_type\u001b[0m\u001b[0;34m.\u001b[0m\u001b[0mpack_output\u001b[0m\u001b[0;34m(\u001b[0m\u001b[0mflat_outputs\u001b[0m\u001b[0;34m)\u001b[0m\u001b[0;34m\u001b[0m\u001b[0;34m\u001b[0m\u001b[0m\n\u001b[1;32m    218\u001b[0m \u001b[0;34m\u001b[0m\u001b[0m\n",
            "\u001b[0;32m/usr/local/lib/python3.10/dist-packages/tensorflow/python/eager/polymorphic_function/atomic_function.py\u001b[0m in \u001b[0;36mcall_flat\u001b[0;34m(self, *args)\u001b[0m\n\u001b[1;32m    249\u001b[0m         \u001b[0;32mwith\u001b[0m \u001b[0mrecord\u001b[0m\u001b[0;34m.\u001b[0m\u001b[0mstop_recording\u001b[0m\u001b[0;34m(\u001b[0m\u001b[0;34m)\u001b[0m\u001b[0;34m:\u001b[0m\u001b[0;34m\u001b[0m\u001b[0;34m\u001b[0m\u001b[0m\n\u001b[1;32m    250\u001b[0m           \u001b[0;32mif\u001b[0m \u001b[0mself\u001b[0m\u001b[0;34m.\u001b[0m\u001b[0m_bound_context\u001b[0m\u001b[0;34m.\u001b[0m\u001b[0mexecuting_eagerly\u001b[0m\u001b[0;34m(\u001b[0m\u001b[0;34m)\u001b[0m\u001b[0;34m:\u001b[0m\u001b[0;34m\u001b[0m\u001b[0;34m\u001b[0m\u001b[0m\n\u001b[0;32m--> 251\u001b[0;31m             outputs = self._bound_context.call_function(\n\u001b[0m\u001b[1;32m    252\u001b[0m                 \u001b[0mself\u001b[0m\u001b[0;34m.\u001b[0m\u001b[0mname\u001b[0m\u001b[0;34m,\u001b[0m\u001b[0;34m\u001b[0m\u001b[0;34m\u001b[0m\u001b[0m\n\u001b[1;32m    253\u001b[0m                 \u001b[0mlist\u001b[0m\u001b[0;34m(\u001b[0m\u001b[0margs\u001b[0m\u001b[0;34m)\u001b[0m\u001b[0;34m,\u001b[0m\u001b[0;34m\u001b[0m\u001b[0;34m\u001b[0m\u001b[0m\n",
            "\u001b[0;32m/usr/local/lib/python3.10/dist-packages/tensorflow/python/eager/context.py\u001b[0m in \u001b[0;36mcall_function\u001b[0;34m(self, name, tensor_inputs, num_outputs)\u001b[0m\n\u001b[1;32m   1484\u001b[0m     \u001b[0mcancellation_context\u001b[0m \u001b[0;34m=\u001b[0m \u001b[0mcancellation\u001b[0m\u001b[0;34m.\u001b[0m\u001b[0mcontext\u001b[0m\u001b[0;34m(\u001b[0m\u001b[0;34m)\u001b[0m\u001b[0;34m\u001b[0m\u001b[0;34m\u001b[0m\u001b[0m\n\u001b[1;32m   1485\u001b[0m     \u001b[0;32mif\u001b[0m \u001b[0mcancellation_context\u001b[0m \u001b[0;32mis\u001b[0m \u001b[0;32mNone\u001b[0m\u001b[0;34m:\u001b[0m\u001b[0;34m\u001b[0m\u001b[0;34m\u001b[0m\u001b[0m\n\u001b[0;32m-> 1486\u001b[0;31m       outputs = execute.execute(\n\u001b[0m\u001b[1;32m   1487\u001b[0m           \u001b[0mname\u001b[0m\u001b[0;34m.\u001b[0m\u001b[0mdecode\u001b[0m\u001b[0;34m(\u001b[0m\u001b[0;34m\"utf-8\"\u001b[0m\u001b[0;34m)\u001b[0m\u001b[0;34m,\u001b[0m\u001b[0;34m\u001b[0m\u001b[0;34m\u001b[0m\u001b[0m\n\u001b[1;32m   1488\u001b[0m           \u001b[0mnum_outputs\u001b[0m\u001b[0;34m=\u001b[0m\u001b[0mnum_outputs\u001b[0m\u001b[0;34m,\u001b[0m\u001b[0;34m\u001b[0m\u001b[0;34m\u001b[0m\u001b[0m\n",
            "\u001b[0;32m/usr/local/lib/python3.10/dist-packages/tensorflow/python/eager/execute.py\u001b[0m in \u001b[0;36mquick_execute\u001b[0;34m(op_name, num_outputs, inputs, attrs, ctx, name)\u001b[0m\n\u001b[1;32m     51\u001b[0m   \u001b[0;32mtry\u001b[0m\u001b[0;34m:\u001b[0m\u001b[0;34m\u001b[0m\u001b[0;34m\u001b[0m\u001b[0m\n\u001b[1;32m     52\u001b[0m     \u001b[0mctx\u001b[0m\u001b[0;34m.\u001b[0m\u001b[0mensure_initialized\u001b[0m\u001b[0;34m(\u001b[0m\u001b[0;34m)\u001b[0m\u001b[0;34m\u001b[0m\u001b[0;34m\u001b[0m\u001b[0m\n\u001b[0;32m---> 53\u001b[0;31m     tensors = pywrap_tfe.TFE_Py_Execute(ctx._handle, device_name, op_name,\n\u001b[0m\u001b[1;32m     54\u001b[0m                                         inputs, attrs, num_outputs)\n\u001b[1;32m     55\u001b[0m   \u001b[0;32mexcept\u001b[0m \u001b[0mcore\u001b[0m\u001b[0;34m.\u001b[0m\u001b[0m_NotOkStatusException\u001b[0m \u001b[0;32mas\u001b[0m \u001b[0me\u001b[0m\u001b[0;34m:\u001b[0m\u001b[0;34m\u001b[0m\u001b[0;34m\u001b[0m\u001b[0m\n",
            "\u001b[0;31mKeyboardInterrupt\u001b[0m: "
          ]
        }
      ],
      "source": [
        "# losses = [\n",
        "#     ('mse', 'mse'),\n",
        "#     ('ms_ssim', MSSSIM_Loss()),\n",
        "#     ('mae', 'mae')\n",
        "# ]\n",
        "\n",
        "# metrics = [\n",
        "#     SSIMMetric(),\n",
        "#     PSNRMetric(),\n",
        "# ]\n",
        "\n",
        "# EPOCHS=15\n",
        "\n",
        "# for s, loss in losses:\n",
        "#     func = None\n",
        "#     if s == 'mse':\n",
        "#         func = tune_model_mse\n",
        "#     elif s == 'ms_ssim':\n",
        "#         func = tune_model_ms_ssim\n",
        "#     elif s == 'mae':\n",
        "#         func = tune_model_mae\n",
        "#     else:\n",
        "#         raise ValueError(\"Invalid parameter\")\n",
        "\n",
        "#     tuner = kt.Hyperband(func,\n",
        "#                          objective='val_loss',\n",
        "#                          max_epochs=5,\n",
        "#                          factor=3,\n",
        "#                          directory='/content/drive/MyDrive/',\n",
        "#                          project_name='cv_params_'+s)\n",
        "\n",
        "#     tuner.search(train_ds, validation_data=valid_ds, epochs=5)\n",
        "\n",
        "#     params = tuner.get_best_hyperparameters()[0]\n",
        "#     print(params.values)\n",
        "\n",
        "#     activation = params.values['activation']\n",
        "#     depth = params.values['depth']\n",
        "#     dropout = params.values['dropout']\n",
        "#     optimizer = params.values['optimizer']\n",
        "\n",
        "#     unet_model = get_unet(depth, dropout, activation)\n",
        "#     unet_model.compile(optimizer=optimizer,\n",
        "#                        loss=loss,\n",
        "#                        metrics=metrics)\n",
        "\n",
        "#     MC_PATH = UMODELS_FOLDER + 'model_' + s + '.{epoch:02d}.h5'\n",
        "#     HIS_PATH = UHIST_FOLDER + 'history_' + s + '.csv'\n",
        "\n",
        "#     y_callbacks = [\n",
        "#         tf.keras.callbacks.EarlyStopping(patience=3),\n",
        "#         tf.keras.callbacks.ModelCheckpoint(filepath=MC_PATH,\n",
        "#                                            monitor='val_loss',\n",
        "#                                            save_best_only=False,\n",
        "#                                            save_weights_only=False),\n",
        "#         tf.keras.callbacks.CSVLogger(HIS_PATH)\n",
        "#     ]\n",
        "\n",
        "#     print(f\"Now executes {loss}\")\n",
        "\n",
        "#     history = unet_model.fit(train_ds,\n",
        "#                              epochs=EPOCHS,\n",
        "#                              validation_data=valid_ds,\n",
        "#                              callbacks=y_callbacks)\n"
      ]
    },
    {
      "cell_type": "markdown",
      "metadata": {
        "id": "7a43tf9mISnx"
      },
      "source": [
        "### Train U-Net with MAE (no hiperparameter tuning)"
      ]
    },
    {
      "cell_type": "code",
      "execution_count": null,
      "metadata": {
        "colab": {
          "background_save": true
        },
        "id": "Do2YUCqdIHjx"
      },
      "outputs": [],
      "source": [
        "metrics = [\n",
        "    SSIMMetric(),\n",
        "    PSNRMetric(),\n",
        "]\n",
        "\n",
        "EPOCHS=20\n",
        "\n",
        "unet_model = get_unet(depth=4, dropout=0.15, activation='relu')\n",
        "unet_model.compile(optimizer='adam',\n",
        "                    loss='mae',\n",
        "                    metrics=metrics)\n",
        "\n",
        "MC_PATH = UMODELS_FOLDER + 'model_mae.{epoch:02d}.h5'\n",
        "HIS_PATH = UHIST_FOLDER + 'history_mae.csv'\n",
        "\n",
        "y_callbacks = [\n",
        "    tf.keras.callbacks.EarlyStopping(patience=3),\n",
        "    tf.keras.callbacks.ModelCheckpoint(filepath=MC_PATH,\n",
        "                                        monitor='val_loss',\n",
        "                                        save_best_only=False,\n",
        "                                        save_weights_only=False),\n",
        "    tf.keras.callbacks.CSVLogger(HIS_PATH)\n",
        "]\n",
        "\n",
        "history = unet_model.fit(train_ds,\n",
        "                         epochs=EPOCHS,\n",
        "                         validation_data=valid_ds,\n",
        "                         callbacks=y_callbacks)\n"
      ]
    },
    {
      "cell_type": "markdown",
      "metadata": {
        "id": "V6O6XVpamE3R"
      },
      "source": [
        "# Evaluation (all models)\n",
        "\n",
        "We evaluated our model on 10K images (batch size=16)"
      ]
    },
    {
      "cell_type": "code",
      "execution_count": 57,
      "metadata": {
        "id": "NOvdwJjYE594"
      },
      "outputs": [],
      "source": [
        "ENCODER_PATH = BASE_FOLDER + 'custom_autoencoder/custom_autoencoder.h5'\n",
        "CONV_PATH = BASE_FOLDER + 'custom_conv_and_dense/custom_conv_and_dense.h5'\n",
        "\n",
        "MAE_PATH = UMODELS_FOLDER + 'mae/model_mae.04.h5'\n",
        "G_DISC_PATH = BASE_FOLDER + 'unetgan/unetgan_disc.h5'\n",
        "G_GEN_PATH = BASE_FOLDER + 'unetgan/unetgan_gen.h5'\n",
        "\n",
        "metrics = [\n",
        "    SSIMMetric(),\n",
        "    PSNRMetric(),\n",
        "]"
      ]
    },
    {
      "cell_type": "markdown",
      "metadata": {
        "id": "eJ9SQ-ys-Ny1"
      },
      "source": [
        "### U-Net"
      ]
    },
    {
      "cell_type": "code",
      "execution_count": 55,
      "metadata": {
        "colab": {
          "base_uri": "https://localhost:8080/"
        },
        "id": "NpLtvUIKlHL-",
        "outputId": "4d8ece69-59b3-4cd3-959d-a20ad19f5f13"
      },
      "outputs": [
        {
          "name": "stdout",
          "output_type": "stream",
          "text": [
            "Reloading Tuner from /content/drive/MyDrive/cv_project3/unet/hyperparameters/mse/tuner0.json\n",
            "625/625 [==============================] - 161s 242ms/step - loss: 0.0232 - ssim: 0.6989 - psnr: 17.0378\n",
            "Reloading Tuner from /content/drive/MyDrive/cv_project3/unet/hyperparameters/ms_ssim/tuner0.json\n",
            "625/625 [==============================] - 165s 256ms/step - loss: nan - ssim: 0.3631 - psnr: 12.7625\n"
          ]
        }
      ],
      "source": [
        "comb = (\n",
        "    ('mse', 'mse', 'model_mse.15.h5', tune_model_mse),\n",
        "    ('ms_ssim', MSSSIM_Loss(), 'model_ms_ssim.15.h5', tune_model_ms_ssim),\n",
        ")\n",
        "\n",
        "metrics = [\n",
        "    SSIMMetric(),\n",
        "    PSNRMetric(),\n",
        "]\n",
        "\n",
        "for loss_name, loss, weights, fun in comb:\n",
        "    tuner = kt.Hyperband(fun,\n",
        "                         objective='val_loss',\n",
        "                         max_epochs=5,\n",
        "                         factor=3,\n",
        "                         directory=UHYPER_FOLDER,\n",
        "                         project_name=loss_name)\n",
        "\n",
        "    params = tuner.get_best_hyperparameters()[0]\n",
        "\n",
        "    activation = params.values['activation']\n",
        "    depth = params.values['depth']\n",
        "    dropout = params.values['dropout']\n",
        "    optimizer = params.values['optimizer']\n",
        "\n",
        "    PATH_WEIGHTS = f\"{UMODELS_FOLDER}{loss_name}/{weights}\"\n",
        "\n",
        "    unet_model = get_unet(depth, dropout, activation)\n",
        "    unet_model.compile(optimizer, loss=loss, metrics=metrics)\n",
        "    unet_model.load_weights(PATH_WEIGHTS)\n",
        "    unet_model.evaluate(test_ds)"
      ]
    },
    {
      "cell_type": "markdown",
      "metadata": {
        "id": "61pPrILKE080"
      },
      "source": [
        "### GAN+U-Net"
      ]
    },
    {
      "cell_type": "code",
      "execution_count": 59,
      "metadata": {
        "colab": {
          "base_uri": "https://localhost:8080/"
        },
        "id": "fdxd1_9kEzCQ",
        "outputId": "c1cb3a9a-f133-4565-c407-d0b86e4476c6"
      },
      "outputs": [
        {
          "name": "stderr",
          "output_type": "stream",
          "text": [
            "100%|██████████| 625/625 [02:45<00:00,  3.78it/s]"
          ]
        },
        {
          "name": "stdout",
          "output_type": "stream",
          "text": [
            "SSIM: 0.6298725\n",
            "PSNR: 14.37348\n"
          ]
        },
        {
          "name": "stderr",
          "output_type": "stream",
          "text": [
            "\n"
          ]
        }
      ],
      "source": [
        "from tqdm import tqdm\n",
        "\n",
        "unet_gan = UnetGAN()\n",
        "unet_gan.generator.load_weights(G_GEN_PATH)\n",
        "\n",
        "ssim = SSIMMetric()\n",
        "psnr = PSNRMetric()\n",
        "\n",
        "for test_input, test_truth in tqdm(test_ds):\n",
        "    test_pred = unet_gan.generator(test_input, training=False)\n",
        "    ssim.update_state(test_truth, test_pred)\n",
        "    psnr.update_state(test_truth, test_pred)\n",
        "\n",
        "print(\"SSIM:\", ssim.result().numpy())\n",
        "print(\"PSNR:\", psnr.result().numpy())"
      ]
    },
    {
      "cell_type": "markdown",
      "metadata": {
        "id": "B9NoYUZy-ZHQ"
      },
      "source": [
        "### Custom Conv and Dense"
      ]
    },
    {
      "cell_type": "code",
      "execution_count": null,
      "metadata": {
        "colab": {
          "base_uri": "https://localhost:8080/"
        },
        "id": "xYo_AFzg-YOl",
        "outputId": "79c62a26-1130-487e-d871-cf6d20d4171d"
      },
      "outputs": [
        {
          "name": "stdout",
          "output_type": "stream",
          "text": [
            "625/625 [==============================] - 91s 139ms/step - loss: 0.0666 - ssim: 0.0997 - psnr: 11.7853\n"
          ]
        },
        {
          "data": {
            "text/plain": [
              "[0.06660273671150208, 0.09966105222702026, 11.785283088684082]"
            ]
          },
          "execution_count": 20,
          "metadata": {},
          "output_type": "execute_result"
        }
      ],
      "source": [
        "model = get_custom_conv_and_dense()\n",
        "model.compile(loss='mse', metrics=metrics)\n",
        "model.load_weights(CONV_PATH)\n",
        "model.evaluate(test_ds)"
      ]
    },
    {
      "cell_type": "markdown",
      "metadata": {
        "id": "2kvSeNDtEoPF"
      },
      "source": [
        "### Autoencoder"
      ]
    },
    {
      "cell_type": "code",
      "execution_count": null,
      "metadata": {
        "colab": {
          "base_uri": "https://localhost:8080/"
        },
        "id": "UbSWcb12ECBD",
        "outputId": "5d8520c1-b4e6-44ea-c887-cc1e502b73ba"
      },
      "outputs": [
        {
          "name": "stdout",
          "output_type": "stream",
          "text": [
            "625/625 [==============================] - 166s 247ms/step - loss: 0.0272 - ssim: 0.3563 - psnr: 13.9658\n"
          ]
        },
        {
          "data": {
            "text/plain": [
              "[0.02721424773335457, 0.35628002882003784, 13.965827941894531]"
            ]
          },
          "execution_count": 22,
          "metadata": {},
          "output_type": "execute_result"
        }
      ],
      "source": [
        "model = get_custom_autoencoder()\n",
        "model.compile(loss='mse', metrics=metrics)\n",
        "model.load_weights(ENCODER_PATH)\n",
        "model.evaluate(test_ds)"
      ]
    }
  ],
  "metadata": {
    "accelerator": "GPU",
    "colab": {
      "provenance": []
    },
    "kernelspec": {
      "display_name": "Python 3",
      "name": "python3"
    },
    "language_info": {
      "name": "python"
    }
  },
  "nbformat": 4,
  "nbformat_minor": 0
}
